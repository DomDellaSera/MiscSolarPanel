{
 "cells": [
  {
   "cell_type": "code",
   "execution_count": 48,
   "id": "1a4fa90c-4e50-4288-b468-e46220f98dbc",
   "metadata": {},
   "outputs": [
    {
     "data": {
      "text/plain": [
       "10.64525"
      ]
     },
     "execution_count": 48,
     "metadata": {},
     "output_type": "execute_result"
    }
   ],
   "source": [
    "#  Aluminum Alloy 6061      0.098 lb*in^3\n",
    "def calculateRectTubeWeight(density, height, width, length, thickness):\n",
    "    ##Verified with Rect Tube 4 x 2 x 0.25 x 39.5 6061 Alu\n",
    "    thickness = thickness*2\n",
    "    outsideArea = width * height\n",
    "    insideArea =(width-thickness)*(height-thickness)\n",
    "    tubeArea = outsideArea - insideArea\n",
    "    return density*length*(tubeArea)\n",
    "\n",
    "calculateRectTubeWeight(0.098, 4,2,39.5,.25)"
   ]
  },
  {
   "cell_type": "code",
   "execution_count": 38,
   "id": "18935285-a8d3-4b57-b632-83b87dbfcfd2",
   "metadata": {},
   "outputs": [
    {
     "name": "stdout",
     "output_type": "stream",
     "text": [
      "\n",
      "\n",
      "Torque contribution of each Part (ft*lb)\n",
      "---------------------------------------------\n",
      "2 Rect Tube 4 x 2 x 0.25 x 39.5:        2.0\n",
      "4 Rect Tube 2 x 1.5 x 0.125 x 78        21.0\n",
      "1 Rect Tube 4 x 1 x 0.125:              14.0\n",
      "Solar Panel                             400.0\n",
      "---------------------------------------------\n",
      "Total Torque                            1311.0\n"
     ]
    }
   ],
   "source": [
    "\n",
    "\n",
    "#Solar Panel Stage 2: Relevant Forces and Lengths \n",
    "    #Forces (pounds)\n",
    "    #Lengths (feet) (aluminum)\n",
    "        #Distance of a part's center of mass from the axis of rotation. \n",
    "\n",
    "#Rect Tube 4 x 2 x 0.25 x 39.5\n",
    "Force1 = 5.0\n",
    "Length1 = .2\n",
    "#Rect Tube 2 x 1.5 x 0.125 x 78\n",
    "Force2 = 1.5\n",
    "Length2 = 3.5\n",
    "#Rect Tube 4 x 1 x 0.125 x 87.5\n",
    "Force3 = 2.0\n",
    "Length3 = 7.0\n",
    "#Solar Panel\n",
    "Force4 = 50.0\n",
    "Length4 = 4.0\n",
    "\n",
    "#Distance (Steel)\n",
    "    #This is the horizontal distance of the pully to the axis of rotation\n",
    "DistanceSteelAlu = 3.0\n",
    "\n",
    "\n",
    "def calculateDownwardTorque():\n",
    "    #There are 2 39.5in tubes, 4 78er, \n",
    "    subTorque = 2*(Force1*Length1) + 4*(Force2*Length2) + Force3*Length3 + 2*(Force4*Length4)\n",
    "    return DistanceSteelAlu*subTorque\n",
    "\n",
    "def displayTorquePerUnit():\n",
    "    print(\"\\n\\nTorque contribution of each Part (ft*lb)\")\n",
    "    print(\"---------------------------------------------\")\n",
    "    print(\"2 Rect Tube 4 x 2 x 0.25 x 39.5:       \", 2*(Force1*Length1))\n",
    "    print(\"4 Rect Tube 2 x 1.5 x 0.125 x 78       \", 4*(Force2*Length2))\n",
    "    print(\"1 Rect Tube 4 x 1 x 0.125:             \", Force3*Length3)\n",
    "    print(\"Solar Panel                            \", 2*(Force4*Length4))\n",
    "    print(\"---------------------------------------------\")\n",
    "    print(\"Total Torque                           \", calculateDownwardTorque())\n",
    "    \n",
    "calculateDownwardTorque()\n",
    "displayTorquePerUnit()"
   ]
  },
  {
   "cell_type": "code",
   "execution_count": null,
   "id": "4e369e5b-8d71-41ec-95c0-ae285e49f71a",
   "metadata": {},
   "outputs": [],
   "source": []
  }
 ],
 "metadata": {
  "kernelspec": {
   "display_name": "Python 3 (ipykernel)",
   "language": "python",
   "name": "python3"
  },
  "language_info": {
   "codemirror_mode": {
    "name": "ipython",
    "version": 3
   },
   "file_extension": ".py",
   "mimetype": "text/x-python",
   "name": "python",
   "nbconvert_exporter": "python",
   "pygments_lexer": "ipython3",
   "version": "3.9.13"
  }
 },
 "nbformat": 4,
 "nbformat_minor": 5
}
